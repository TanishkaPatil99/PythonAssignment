{
  "cells": [
    {
      "cell_type": "markdown",
      "metadata": {
        "id": "XzXL8f4lJbvi"
      },
      "source": [
        "## Python Basic Programming Exercises"
      ]
    },
    {
      "cell_type": "raw",
      "metadata": {
        "id": "n-ZqpdQlJbvl"
      },
      "source": [
        "Q1: What is the output of following expression\n",
        "    5 + 4 * 9 % (3 + 1) / 6 - 1"
      ]
    },
    {
      "cell_type": "code",
      "execution_count": null,
      "metadata": {
        "id": "DQizlDMcJbvn",
        "outputId": "ee6d1d37-526d-46bc-dc13-770173815818",
        "colab": {
          "base_uri": "https://localhost:8080/"
        }
      },
      "outputs": [
        {
          "output_type": "stream",
          "name": "stdout",
          "text": [
            "The output is 4.0\n"
          ]
        }
      ],
      "source": [
        "output = 5 + 4 * 9 % (3 + 1) / 6 - 1\n",
        "print(\"The output is\",output)"
      ]
    },
    {
      "cell_type": "raw",
      "metadata": {
        "id": "GrJK_PgYJbvo"
      },
      "source": [
        "Q2: Write a program to check if a Number is Odd or Even. Take number as a input from user at runtime."
      ]
    },
    {
      "cell_type": "code",
      "execution_count": null,
      "metadata": {
        "id": "TLkKe2PKJbvp",
        "outputId": "d6014810-112a-4f98-db4d-ea3078ece456",
        "colab": {
          "base_uri": "https://localhost:8080/"
        }
      },
      "outputs": [
        {
          "output_type": "stream",
          "name": "stdout",
          "text": [
            "Enter a number: 9\n",
            "The number 9 is Odd.\n"
          ]
        }
      ],
      "source": [
        "user_input = int(input(\"Enter a number: \"))\n",
        "if user_input % 2 == 0:\n",
        "        print(f\"The number {user_input} is Even.\")\n",
        "else:\n",
        "        print(f\"The number {user_input} is Odd.\")\n",
        "\n",
        "\n"
      ]
    },
    {
      "cell_type": "raw",
      "metadata": {
        "id": "28s5rVp3Jbvq"
      },
      "source": [
        "Q3: Write a program to display the multiplication table by taking a number as input.\n",
        "    [Hint : Use print statement inside of a loop]"
      ]
    },
    {
      "cell_type": "code",
      "execution_count": null,
      "metadata": {
        "id": "H1fPpnezJbvq",
        "outputId": "5eeab909-78a4-4f2f-e656-6a827a2fe5d8",
        "colab": {
          "base_uri": "https://localhost:8080/"
        }
      },
      "outputs": [
        {
          "output_type": "stream",
          "name": "stdout",
          "text": [
            "Enter a number to display its multiplication table: 5\n",
            "Multiplication Table for 5:\n",
            "5 x 1 = 5\n",
            "5 x 2 = 10\n",
            "5 x 3 = 15\n",
            "5 x 4 = 20\n",
            "5 x 5 = 25\n",
            "5 x 6 = 30\n",
            "5 x 7 = 35\n",
            "5 x 8 = 40\n",
            "5 x 9 = 45\n",
            "5 x 10 = 50\n"
          ]
        }
      ],
      "source": [
        "number = int(input(\"Enter a number to display its multiplication table: \"))\n",
        "print(f\"Multiplication Table for {number}:\")\n",
        "for i in range(1, 11):\n",
        "        print(f\"{number} x {i} = {number * i}\")"
      ]
    },
    {
      "cell_type": "raw",
      "metadata": {
        "id": "s3V0wpM4Jbvr"
      },
      "source": [
        "Q4: Write a program which will find all numbers between 2000 and 3200 which are divisible by 7\n",
        "    but are not a multiple of 5.\n",
        "\n",
        "Note: The numbers obtained should be printed in a comma-separated sequence on a single line."
      ]
    },
    {
      "cell_type": "code",
      "execution_count": null,
      "metadata": {
        "id": "dHNKjKBVJbvs",
        "outputId": "fb41d679-92ea-44ea-e0b6-3c735933b1ba",
        "colab": {
          "base_uri": "https://localhost:8080/"
        }
      },
      "outputs": [
        {
          "output_type": "stream",
          "name": "stdout",
          "text": [
            "2002,2009,2016,2023,2037,2044,2051,2058,2072,2079,2086,2093,2107,2114,2121,2128,2142,2149,2156,2163,2177,2184,2191,2198,2212,2219,2226,2233,2247,2254,2261,2268,2282,2289,2296,2303,2317,2324,2331,2338,2352,2359,2366,2373,2387,2394,2401,2408,2422,2429,2436,2443,2457,2464,2471,2478,2492,2499,2506,2513,2527,2534,2541,2548,2562,2569,2576,2583,2597,2604,2611,2618,2632,2639,2646,2653,2667,2674,2681,2688,2702,2709,2716,2723,2737,2744,2751,2758,2772,2779,2786,2793,2807,2814,2821,2828,2842,2849,2856,2863,2877,2884,2891,2898,2912,2919,2926,2933,2947,2954,2961,2968,2982,2989,2996,3003,3017,3024,3031,3038,3052,3059,3066,3073,3087,3094,3101,3108,3122,3129,3136,3143,3157,3164,3171,3178,3192,3199\n"
          ]
        }
      ],
      "source": [
        "result = []\n",
        "\n",
        "for num in range(2000, 3201):\n",
        "\n",
        "    if num % 7 == 0 and num % 5 != 0:\n",
        "        result.append(str(num))\n",
        "\n",
        "print(\",\".join(result))"
      ]
    },
    {
      "cell_type": "raw",
      "metadata": {
        "id": "EztI0NiLJbvs"
      },
      "source": [
        "Q5: Count the elements of each datatype inside the list and display in output\n",
        "    [2, 3, 'Py', '10', 1, 'SQL', 5.5, True, 3, 'John', None, 7]"
      ]
    },
    {
      "cell_type": "code",
      "execution_count": null,
      "metadata": {
        "id": "I_m45LgTJbvt",
        "outputId": "3be17f43-1224-4ef1-b58d-a9180e03970b",
        "colab": {
          "base_uri": "https://localhost:8080/"
        }
      },
      "outputs": [
        {
          "output_type": "stream",
          "name": "stdout",
          "text": [
            "int: 5\n",
            "str: 4\n",
            "float: 1\n",
            "bool: 1\n",
            "NoneType: 1\n"
          ]
        }
      ],
      "source": [
        "data_list = [2, 3, 'Py', '10', 1, 'SQL', 5.5, True, 3, 'John', None, 7]\n",
        "datatype_count = {}\n",
        "\n",
        "for item in data_list:\n",
        "\n",
        "    item_type = type(item)\n",
        "\n",
        "    if item_type in datatype_count:\n",
        "        datatype_count[item_type] += 1\n",
        "    else:\n",
        "        datatype_count[item_type] = 1\n",
        "\n",
        "for datatype, count in datatype_count.items():\n",
        "    print(f\"{datatype.__name__}: {count}\")"
      ]
    },
    {
      "cell_type": "raw",
      "metadata": {
        "id": "N9nV2PYzJbvt"
      },
      "source": [
        "Q6: Add all values from the list with numeric datatypes\n",
        "    [2, 3, 'Py', '10', 1, 'SQL', 5.5, True, 3, 'John', None, 7]"
      ]
    },
    {
      "cell_type": "code",
      "execution_count": null,
      "metadata": {
        "id": "E0C618wRJbvu",
        "outputId": "090cd215-6858-4545-d9de-b01217a8990e",
        "colab": {
          "base_uri": "https://localhost:8080/"
        }
      },
      "outputs": [
        {
          "output_type": "stream",
          "name": "stdout",
          "text": [
            "Total sum of numeric values: 22.5\n"
          ]
        }
      ],
      "source": [
        "data_list = [2, 3, 'Py', '10', 1, 'SQL', 5.5, True, 3, 'John', None, 7]\n",
        "\n",
        "total_sum = 0\n",
        "\n",
        "for item in data_list:\n",
        "\n",
        "    if isinstance(item, (int, float)):\n",
        "        total_sum += item\n",
        "\n",
        "\n",
        "print(\"Total sum of numeric values:\", total_sum)"
      ]
    },
    {
      "cell_type": "raw",
      "metadata": {
        "id": "ykhfQcfsJbvu"
      },
      "source": [
        "Q7: Concat all str datatypes with hyphen as a delimiter\n",
        "    [2, 3, 'Py', '10', 1, 'SQL', 5.5, True, 3, 'John', None, 7]"
      ]
    },
    {
      "cell_type": "code",
      "execution_count": null,
      "metadata": {
        "id": "St1Nm4CMJbvu",
        "outputId": "84fb4b0d-39be-4026-c696-33576df9320f",
        "colab": {
          "base_uri": "https://localhost:8080/"
        }
      },
      "outputs": [
        {
          "output_type": "stream",
          "name": "stdout",
          "text": [
            "Concatenated string: Py-10-SQL-John\n"
          ]
        }
      ],
      "source": [
        "data_list = [2, 3, 'Py', '10', 1, 'SQL', 5.5, True, 3, 'John', None, 7]\n",
        "\n",
        "string_values = []\n",
        "\n",
        "for item in data_list:\n",
        "\n",
        "    if isinstance(item, str):\n",
        "        string_values.append(item)\n",
        "\n",
        "result = '-'.join(string_values)\n",
        "\n",
        "print(\"Concatenated string:\", result)"
      ]
    },
    {
      "cell_type": "raw",
      "metadata": {
        "id": "3OPAVHFUJbvv"
      },
      "source": [
        "Q8 Get only odd numbers from the following list and store the numbers in new list\n",
        "    li = [5, 7, 22, 97, 54, 62, 77, 23, 73, 61]\n",
        "\n",
        "    i. Use loops to get the answer\n",
        "   ii. Use list comprehensions\n",
        "  iii. Use lambda function with filter"
      ]
    },
    {
      "cell_type": "code",
      "execution_count": null,
      "metadata": {
        "id": "GBpkPk0fJbvv",
        "outputId": "2a47c1bd-efcd-4c42-e926-0dd2a9955010",
        "colab": {
          "base_uri": "https://localhost:8080/"
        }
      },
      "outputs": [
        {
          "output_type": "stream",
          "name": "stdout",
          "text": [
            "Odd numbers: [5, 7, 97, 77, 23, 73, 61]\n"
          ]
        }
      ],
      "source": [
        "#i. Using loops to get the answer\n",
        "li = [5, 7, 22, 97, 54, 62, 77, 23, 73, 61]\n",
        "\n",
        "odd_numbers = []\n",
        "\n",
        "for num in li:\n",
        "\n",
        "    if num % 2 != 0:\n",
        "        odd_numbers.append(num)\n",
        "\n",
        "print(\"Odd numbers:\", odd_numbers)"
      ]
    },
    {
      "cell_type": "code",
      "source": [
        "#ii.Using list comprehensions\n",
        "li = [5, 7, 22, 97, 54, 62, 77, 23, 73, 61]\n",
        "\n",
        "odd_numbers = [num for num in li if num % 2 != 0]\n",
        "\n",
        "print(\"Odd numbers:\", odd_numbers)"
      ],
      "metadata": {
        "id": "wtomXD4ZYO7o",
        "outputId": "5f0b4879-d596-4905-a62b-e899af7a0154",
        "colab": {
          "base_uri": "https://localhost:8080/"
        }
      },
      "execution_count": null,
      "outputs": [
        {
          "output_type": "stream",
          "name": "stdout",
          "text": [
            "Odd numbers: [5, 7, 97, 77, 23, 73, 61]\n"
          ]
        }
      ]
    },
    {
      "cell_type": "code",
      "source": [
        "# iii. Using lambda function with filter\n",
        "li = [5, 7, 22, 97, 54, 62, 77, 23, 73, 61]\n",
        "\n",
        "odd_numbers = list(filter(lambda x: x % 2 != 0, li))\n",
        "\n",
        "print(odd_numbers)\n"
      ],
      "metadata": {
        "id": "vQC8-jsqYmG3",
        "outputId": "1e5f2d51-7ead-4d18-b685-4c3b79eed08a",
        "colab": {
          "base_uri": "https://localhost:8080/"
        }
      },
      "execution_count": null,
      "outputs": [
        {
          "output_type": "stream",
          "name": "stdout",
          "text": [
            "[5, 7, 97, 77, 23, 73, 61]\n"
          ]
        }
      ]
    },
    {
      "cell_type": "raw",
      "metadata": {
        "id": "Le8U6nU9Jbvv"
      },
      "source": [
        "Q9: Write an udf to calculate the area of different shapes\n",
        "\n",
        "Take shape and dimensions as arguments to udf as follows :\n",
        "\n",
        "1. square which has side\n",
        "2. rectangle which has length and width\n",
        "3. circle which has radius\n",
        "\n",
        "The shape should be a positional argument and it's dimensions are taken as kwargs\n",
        "\n",
        "Perform proper validation for the user inputs and then calculate area.\n",
        "\n",
        "E.g. if shape is square, ensure kwargs has \"side\" and if so, then you may return the area, else display appropriate error message like \"Please enter 'side' for a square\""
      ]
    },
    {
      "cell_type": "code",
      "execution_count": null,
      "metadata": {
        "id": "pKG5X9MhJbvw",
        "outputId": "578c1e69-1d44-4749-900f-a415f78d9cd0",
        "colab": {
          "base_uri": "https://localhost:8080/"
        }
      },
      "outputs": [
        {
          "output_type": "stream",
          "name": "stdout",
          "text": [
            "25\n",
            "24\n",
            "28.27431\n",
            "Unsupported shape. Please enter 'square', 'rectangle', or 'circle'.\n",
            "Please enter 'side' for a square.\n"
          ]
        }
      ],
      "source": [
        "def calculate_area(shape, **kwargs):\n",
        "    if shape == 'square':\n",
        "        side = kwargs.get('side')\n",
        "        if side is None:\n",
        "            return \"Please enter 'side' for a square.\"\n",
        "        if side <= 0:\n",
        "            return \"Side length must be positive.\"\n",
        "        return side ** 2\n",
        "\n",
        "    elif shape == 'rectangle':\n",
        "        length = kwargs.get('length')\n",
        "        width = kwargs.get('width')\n",
        "        if length is None or width is None:\n",
        "            return \"Please enter 'length' and 'width' for a rectangle.\"\n",
        "        if length <= 0 or width <= 0:\n",
        "            return \"Length and width must be positive.\"\n",
        "        return length * width\n",
        "\n",
        "    elif shape == 'circle':\n",
        "        radius = kwargs.get('radius')\n",
        "        if radius is None:\n",
        "            return \"Please enter 'radius' for a circle.\"\n",
        "        if radius <= 0:\n",
        "            return \"Radius must be positive.\"\n",
        "        return 3.14159 * (radius ** 2)\n",
        "\n",
        "    else:\n",
        "        return \"Unsupported shape. Please enter 'square', 'rectangle', or 'circle'.\"\n",
        "\n",
        "\n",
        "print(calculate_area('square', side=5))\n",
        "print(calculate_area('rectangle', length=4, width=6))\n",
        "print(calculate_area('circle', radius=3))\n",
        "print(calculate_area('triangle', base=3, height=4))\n",
        "print(calculate_area('square'))\n"
      ]
    },
    {
      "cell_type": "raw",
      "metadata": {
        "collapsed": true,
        "jupyter": {
          "outputs_hidden": true
        },
        "id": "8TICmh6HJbvx"
      },
      "source": [
        "Q10: write a UDF to check if a number is prime or not."
      ]
    },
    {
      "cell_type": "raw",
      "metadata": {
        "collapsed": true,
        "jupyter": {
          "outputs_hidden": true
        },
        "id": "1InHm7mTJbvx"
      },
      "source": [
        "\n"
      ]
    },
    {
      "cell_type": "code",
      "source": [
        "def is_prime(n):\n",
        "    \"\"\"Check if a number is prime.\"\"\"\n",
        "    if n <= 1:\n",
        "        return False\n",
        "    if n <= 3:\n",
        "        return True\n",
        "\n",
        "    if n % 2 == 0 or n % 3 == 0:\n",
        "        return False\n",
        "\n",
        "    i = 5\n",
        "    while i * i <= n:\n",
        "        if n % i == 0 or n % (i + 2) == 0:\n",
        "            return False\n",
        "        i += 6\n",
        "\n",
        "    return True\n",
        "\n",
        "print(is_prime(11))  # True\n",
        "print(is_prime(4))   # False\n",
        "print(is_prime(17))  # True\n",
        "print(is_prime(1))   # False\n",
        "print(is_prime(20))  # False"
      ],
      "metadata": {
        "id": "WIbykGsMjQsA",
        "outputId": "3d92fdf6-311a-4150-fed7-3a8d71f7d551",
        "colab": {
          "base_uri": "https://localhost:8080/"
        }
      },
      "execution_count": null,
      "outputs": [
        {
          "output_type": "stream",
          "name": "stdout",
          "text": [
            "True\n",
            "False\n",
            "True\n",
            "False\n",
            "False\n"
          ]
        }
      ]
    },
    {
      "cell_type": "raw",
      "metadata": {
        "collapsed": true,
        "jupyter": {
          "outputs_hidden": true
        },
        "id": "ew4DqpFzJbvx"
      },
      "source": [
        "Q11. Write a program that takes a string and returns reversed string. i.e. if input is \"abcd123\" output should be \"321dcba\""
      ]
    },
    {
      "cell_type": "code",
      "execution_count": null,
      "metadata": {
        "id": "ZAm82hF4Jbvx",
        "outputId": "f520d023-8fe3-4470-d4db-1aab14c8b47a",
        "colab": {
          "base_uri": "https://localhost:8080/"
        }
      },
      "outputs": [
        {
          "output_type": "stream",
          "name": "stdout",
          "text": [
            "Enter a string: 1343\n",
            "Reversed string: 3431\n"
          ]
        }
      ],
      "source": [
        "def reverse_string(s):\n",
        "    \"\"\"Return the reversed string.\"\"\"\n",
        "    return s[::-1]\n",
        "\n",
        "input_string = input(\"Enter a string: \")\n",
        "reversed_string = reverse_string(input_string)\n",
        "print(\"Reversed string:\", reversed_string)\n"
      ]
    },
    {
      "cell_type": "code",
      "execution_count": null,
      "metadata": {
        "id": "6hiXhZsCJbvy"
      },
      "outputs": [],
      "source": []
    }
  ],
  "metadata": {
    "kernelspec": {
      "display_name": "Python 3 (ipykernel)",
      "language": "python",
      "name": "python3"
    },
    "language_info": {
      "codemirror_mode": {
        "name": "ipython",
        "version": 3
      },
      "file_extension": ".py",
      "mimetype": "text/x-python",
      "name": "python",
      "nbconvert_exporter": "python",
      "pygments_lexer": "ipython3",
      "version": "3.12.4"
    },
    "varInspector": {
      "cols": {
        "lenName": 16,
        "lenType": 16,
        "lenVar": 40
      },
      "kernels_config": {
        "python": {
          "delete_cmd_postfix": "",
          "delete_cmd_prefix": "del ",
          "library": "var_list.py",
          "varRefreshCmd": "print(var_dic_list())"
        },
        "r": {
          "delete_cmd_postfix": ") ",
          "delete_cmd_prefix": "rm(",
          "library": "var_list.r",
          "varRefreshCmd": "cat(var_dic_list()) "
        }
      },
      "types_to_exclude": [
        "module",
        "function",
        "builtin_function_or_method",
        "instance",
        "_Feature"
      ],
      "window_display": false
    },
    "colab": {
      "provenance": [],
      "toc_visible": true
    }
  },
  "nbformat": 4,
  "nbformat_minor": 0
}